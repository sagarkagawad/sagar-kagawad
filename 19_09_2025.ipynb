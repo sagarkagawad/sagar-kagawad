{
  "nbformat": 4,
  "nbformat_minor": 0,
  "metadata": {
    "colab": {
      "provenance": []
    },
    "kernelspec": {
      "name": "python3",
      "display_name": "Python 3"
    },
    "language_info": {
      "name": "python"
    }
  },
  "cells": [
    {
      "cell_type": "code",
      "execution_count": 14,
      "metadata": {
        "colab": {
          "base_uri": "https://localhost:8080/"
        },
        "id": "oY1lJmaTBZ1r",
        "outputId": "1cf526c3-9902-4970-ee57-5b49442180ae"
      },
      "outputs": [
        {
          "output_type": "stream",
          "name": "stdout",
          "text": [
            "Total value is : 15\n",
            "Total value is : 18\n",
            "Total value is : 90\n"
          ]
        }
      ],
      "source": [
        "# 1) Example sum of numbers using *args\n",
        "def add(*args):\n",
        "   total = 0\n",
        "   for num in args:\n",
        "      total += num\n",
        "   print(\"Total value is :\",total)\n",
        "\n",
        "add(10,5)\n",
        "add(5,4,9)\n",
        "add(10,46,14,20)"
      ]
    },
    {
      "cell_type": "code",
      "source": [
        "def print_details(**kwargs):\n",
        "   for key,value in kwargs.items():\n",
        "    print(f\"{key}={value}\")\n",
        "\n",
        "print_details(name='Basavaraj',age=25,city='Bangalore')"
      ],
      "metadata": {
        "colab": {
          "base_uri": "https://localhost:8080/"
        },
        "id": "aAD0dtdGKp7m",
        "outputId": "7f6a8c32-6914-4036-e644-3628874e6563"
      },
      "execution_count": 15,
      "outputs": [
        {
          "output_type": "stream",
          "name": "stdout",
          "text": [
            "name=Basavaraj\n",
            "age=25\n",
            "city=Bangalore\n"
          ]
        }
      ]
    },
    {
      "cell_type": "code",
      "source": [
        "def details(**kwargs):\n",
        "  for key,value in kwargs.items():\n",
        "    print(f'My details is {key} and {value}')\n",
        "\n",
        "details(course=\"BCA\",section='C',college=\"BK college\")\n",
        "details(place = \"Bengaluru\")\n",
        "details(roll_num = 201, T_Subject = 7)\n",
        "details(Laptop = \"Lenovo\", O_S = \"Window\",year = 2022,version = \"Windows 11\")"
      ],
      "metadata": {
        "colab": {
          "base_uri": "https://localhost:8080/"
        },
        "id": "I4x2E5cAUAoi",
        "outputId": "254851d3-4d1d-42bd-afc3-c08fb6141808"
      },
      "execution_count": 21,
      "outputs": [
        {
          "output_type": "stream",
          "name": "stdout",
          "text": [
            "My details is course and BCA\n",
            "My details is section and C\n",
            "My details is college and BK college\n",
            "My details is place and Bengaluru\n",
            "My details is roll_num and 201\n",
            "My details is T_Subject and 7\n",
            "My details is Laptop and Lenovo\n",
            "My details is O_S and Window\n",
            "My details is year and 2022\n",
            "My details is version and Windows 11\n"
          ]
        }
      ]
    },
    {
      "cell_type": "code",
      "source": [
        "# Example of *arges and **kwargs"
      ],
      "metadata": {
        "id": "7xsQpRtDWiwY"
      },
      "execution_count": null,
      "outputs": []
    },
    {
      "cell_type": "code",
      "source": [
        "# Example of *arges and **kwargs\n",
        "def Show_values(*args,**kwargs):\n",
        "    print(\"Positional Arguments represented in Tuple\",args)\n",
        "    print(\"Key - words Arguments represented in Dict \",kwargs)\n",
        "Show_values(1,2,3,4,name=\"basavaraj\")\n",
        "\n",
        "Show_values(5,8,1,10,Class = \"BCA C section\",gender = \"male\")"
      ],
      "metadata": {
        "colab": {
          "base_uri": "https://localhost:8080/"
        },
        "id": "YM242PBXXcfA",
        "outputId": "e5255910-9ae7-466f-c8e9-c19159d2aa47"
      },
      "execution_count": 24,
      "outputs": [
        {
          "output_type": "stream",
          "name": "stdout",
          "text": [
            "Positional Arguments represented in Tuple (1, 2, 3, 4)\n",
            "Key - words Arguments represented in Dict  {'name': 'basavaraj'}\n",
            "Positional Arguments represented in Tuple (5, 8, 1, 10)\n",
            "Key - words Arguments represented in Dict  {'Class': 'BCA C section', 'gender': 'male'}\n"
          ]
        }
      ]
    },
    {
      "cell_type": "code",
      "source": [
        "fact = 1\n",
        "for i in range(1,6):\n",
        "    fact = fact * i\n",
        "print(fact)"
      ],
      "metadata": {
        "colab": {
          "base_uri": "https://localhost:8080/"
        },
        "id": "FuC971yXYnx_",
        "outputId": "ce4752d6-69f9-414f-8487-be4ae8de0b2a"
      },
      "execution_count": 28,
      "outputs": [
        {
          "output_type": "stream",
          "name": "stdout",
          "text": [
            "120\n"
          ]
        }
      ]
    },
    {
      "cell_type": "code",
      "source": [
        "fact = 1\n",
        "def fact(num):\n",
        "   if num == 0 or num == 1:\n",
        "      return 1\n",
        "   else:\n",
        "      return num * fact(num-1)\n",
        "print(fact(5))\n",
        ""
      ],
      "metadata": {
        "colab": {
          "base_uri": "https://localhost:8080/"
        },
        "id": "BYjADMrib3Km",
        "outputId": "8e08703e-1019-4bfe-c0e8-e9fa81d96c72"
      },
      "execution_count": 43,
      "outputs": [
        {
          "output_type": "stream",
          "name": "stdout",
          "text": [
            "120\n"
          ]
        }
      ]
    },
    {
      "cell_type": "code",
      "source": [
        "def sum(num):\n",
        "  if num == 0:\n",
        "    return num\n",
        "  else:\n",
        "    return num + sum(num-1)\n",
        "print(sum(5))\n"
      ],
      "metadata": {
        "colab": {
          "base_uri": "https://localhost:8080/"
        },
        "id": "FKROQ8ymfI2l",
        "outputId": "e1ffc8b5-3c61-4a1b-edaa-1a1c1a6b2997"
      },
      "execution_count": 44,
      "outputs": [
        {
          "output_type": "stream",
          "name": "stdout",
          "text": [
            "15\n"
          ]
        }
      ]
    },
    {
      "cell_type": "code",
      "source": [
        "def fibo(num):\n",
        "  if num <= 1:\n",
        "    return num\n",
        "  else:\n",
        "    return fibo(num-1) + fibo(num-2)\n",
        "for i in range(11):\n",
        "  print(fibo(i),end= \" \")"
      ],
      "metadata": {
        "colab": {
          "base_uri": "https://localhost:8080/"
        },
        "id": "cXOU8-_Ni9bI",
        "outputId": "82b77c70-8cbb-4ac6-8764-40c88a3a6bf6"
      },
      "execution_count": 47,
      "outputs": [
        {
          "output_type": "stream",
          "name": "stdout",
          "text": [
            "0 1 1 2 3 5 8 13 21 34 55 "
          ]
        }
      ]
    },
    {
      "cell_type": "code",
      "source": [
        "class Fruit:\n",
        "    colour=\"Orange\"\n",
        "    price=250\n",
        "    taste=\"sweet\"\n",
        "    shape=\"circle\"\n",
        "    def juice(self):\n",
        "        print(\"good\")\n",
        "orange = Fruit()\n",
        "print(\"orange colour is\",orange.colour)\n",
        "orange.juice()\n",
        "print(orange.price)\n"
      ],
      "metadata": {
        "colab": {
          "base_uri": "https://localhost:8080/"
        },
        "id": "eSxeqEOppNEm",
        "outputId": "56b491cd-615a-411a-806e-6e52b759a216"
      },
      "execution_count": 51,
      "outputs": [
        {
          "output_type": "stream",
          "name": "stdout",
          "text": [
            "orange colour is Orange\n",
            "good\n",
            "250\n"
          ]
        }
      ]
    },
    {
      "cell_type": "code",
      "source": [
        "class Flower:\n",
        "    smell=\"Nice\"\n",
        "    petal=5\n",
        "    size=\"Medium\"\n",
        "    gender=\"male\"\n",
        "    Validiy = 1.5\n",
        "    def Decoration(self):\n",
        "        print(\"hello Good Morning\")\n",
        "    def Gift(self):\n",
        "        print(\"Good Afternoon\")\n",
        "    def Marriage(self):\n",
        "        print(\"Marriage\")\n",
        "    def Death(self):\n",
        "        print(\"This flower using for death time\")\n",
        "\n",
        "Obj = Flower()\n",
        "Obj.Marriage()\n",
        "print(Obj.gender)\n",
        "Obj.Decoration()"
      ],
      "metadata": {
        "colab": {
          "base_uri": "https://localhost:8080/"
        },
        "id": "PQ8_T45I1TKR",
        "outputId": "f707fd4b-498b-442f-b732-82df20543f46"
      },
      "execution_count": 54,
      "outputs": [
        {
          "output_type": "stream",
          "name": "stdout",
          "text": [
            "Marriage\n",
            "male\n",
            "hello Good Morning\n"
          ]
        }
      ]
    },
    {
      "cell_type": "code",
      "source": [
        "class Fan :\n",
        "  colour = \"Black\"\n",
        "  Wings = 3\n",
        "  c_name = \"Bajaj\"\n",
        "  price = 1500\n",
        "  Warrenty = \"2 years\"\n",
        "  def start(self):\n",
        "      print(\"When click on button it'll start\")\n",
        "  def speed(self):\n",
        "      print(\"Based on condition it'll move fast\")\n",
        "  def stop(self):\n",
        "      print(\"When click on button it'll stop\")\n",
        "\n",
        "Obj = Fan()\n",
        "print(Obj.c_name+ \" \"+Obj.Warrenty)\n",
        "Obj.stop()\n",
        "Obj.start()"
      ],
      "metadata": {
        "colab": {
          "base_uri": "https://localhost:8080/"
        },
        "id": "DWI1kVfH5dJ8",
        "outputId": "6e732d0e-d211-4356-f56e-7ecabef4014e"
      },
      "execution_count": 58,
      "outputs": [
        {
          "output_type": "stream",
          "name": "stdout",
          "text": [
            "Bajaj 2 years\n",
            "When click on button it'll stop\n",
            "When click on button it'll start\n"
          ]
        }
      ]
    },
    {
      "cell_type": "code",
      "source": [
        "# Banking Example\n",
        "class Bank :\n",
        "    def __init__(self,balance):\n",
        "      self.balance = balance\n",
        "\n",
        "    def Deposit(self, amount):\n",
        "      self.balance += amount\n",
        "\n",
        "    def Withdraw(self,amount):\n",
        "        if amount <= self.balance:\n",
        "           self.balance -= amount\n",
        "           print(\"Transaction successfully\",amount)\n",
        "        else:\n",
        "           print(\"Insufficient balance\")\n",
        "    def re_balance(self):\n",
        "        return self.balance\n",
        "\n",
        "Obj = Bank(1000)\n",
        "print(Obj.balance)\n",
        "Obj.Deposit(500)\n",
        "print(Obj.balance)\n",
        "Obj.Withdraw(700)\n",
        "print(Obj.re_balance())\n",
        "Obj.Deposit(1000)\n",
        "print(\"Current total balance is\",Obj.balance)\n",
        "Obj.Withdraw(2000)\n",
        "print(\"Current total balance is\",Obj.balance)\n",
        "Obj.Withdraw(1500)\n",
        "print(\"Current total balance is\",Obj.balance)"
      ],
      "metadata": {
        "colab": {
          "base_uri": "https://localhost:8080/"
        },
        "id": "ecMsuS9SJ-HR",
        "outputId": "b68800d3-3b8a-4fe4-dfa9-0382fba01bd2"
      },
      "execution_count": 83,
      "outputs": [
        {
          "output_type": "stream",
          "name": "stdout",
          "text": [
            "1000\n",
            "1500\n",
            "Transaction successfully 700\n",
            "800\n",
            "Current total balance is 1800\n",
            "Insufficient balance\n",
            "Current total balance is 1800\n",
            "Transaction successfully 1500\n",
            "Current total balance is 300\n"
          ]
        }
      ]
    },
    {
      "cell_type": "code",
      "source": [
        "#Encapsulation Example\n",
        "class Student :\n",
        "    def __init__(self,name,marks,place):\n",
        "        self.__name = name\n",
        "        self.__marks = marks\n",
        "        self.place = place\n",
        "\n",
        "    def set_method(self,name,marks):\n",
        "        self.name = name\n",
        "        self.marks = marks\n",
        "\n",
        "    def get_method(self):\n",
        "        return self.name+ \" \" +str(self.marks)\n",
        "\n",
        "Obj = Student(\"Sagar\",85,\"Athani\")\n",
        "Obj.set_method(\"Sachin\",69)\n",
        "print(Obj.get_method())\n"
      ],
      "metadata": {
        "colab": {
          "base_uri": "https://localhost:8080/"
        },
        "id": "9Ao-_5cObWtm",
        "outputId": "c9b191ae-ec5a-443c-85c2-51cc431acd9c"
      },
      "execution_count": 115,
      "outputs": [
        {
          "output_type": "stream",
          "name": "stdout",
          "text": [
            "Sachin 69\n"
          ]
        }
      ]
    },
    {
      "cell_type": "code",
      "source": [
        "# 1) Sigle Inheritance\n",
        "class Parent :\n",
        "  def Work(self):\n",
        "     print(\"My parents are doing forming\")\n",
        "class Children(Parent):\n",
        "  def Study(self):\n",
        "     print(\"I'm studying BCA in BK college\")\n",
        "\n",
        "ch = Children()\n",
        "ch.Work()\n",
        "ch.Study()\n",
        ""
      ],
      "metadata": {
        "colab": {
          "base_uri": "https://localhost:8080/"
        },
        "id": "nzTF0i2BdG9t",
        "outputId": "183c30a2-2fd4-404f-b867-1be1a2f254e4"
      },
      "execution_count": 117,
      "outputs": [
        {
          "output_type": "stream",
          "name": "stdout",
          "text": [
            "My parents are doing forming\n",
            "I'm studying BCA in BK college\n"
          ]
        }
      ]
    },
    {
      "cell_type": "code",
      "source": [
        "# Multiple Inheriance\n",
        "class Father :\n",
        "  def Hi(self):\n",
        "    print(\"My father is my first hero\")\n",
        "\n",
        "class Mother :\n",
        "  def Hello(self):\n",
        "    print(\"My Mother is a House wife\")\n",
        "\n",
        "class child(Father, Mother):\n",
        "  def Bye(self):\n",
        "    print(\"I'm working as a Freelancer\")\n",
        "\n",
        "Obj = child()\n",
        "Obj.Hi()\n",
        "Obj.Hello()\n",
        "Obj.Bye()"
      ],
      "metadata": {
        "colab": {
          "base_uri": "https://localhost:8080/"
        },
        "id": "gpmRSveVkk51",
        "outputId": "c5f93a4e-95f6-48a7-8957-0babd0b81c59"
      },
      "execution_count": 118,
      "outputs": [
        {
          "output_type": "stream",
          "name": "stdout",
          "text": [
            "My father is my first hero\n",
            "My Mother is a House wife\n",
            "I'm working as a Freelancer\n"
          ]
        }
      ]
    },
    {
      "cell_type": "code",
      "source": [
        "# Multi Level Inheritance\n",
        "class Grand_parents :\n",
        "  def Formar(self):\n",
        "      print(\"✅✅✅✅✅\")\n",
        "\n",
        "class Parents(Grand_parents) :\n",
        "  def House(self):\n",
        "      print(\"😼😼😼😼\")\n",
        "\n",
        "class Child (Parents):\n",
        "  def Jolly(self):\n",
        "      print(\"🌱🌱🌱🌱\")\n",
        "\n",
        "Obj = Child()\n",
        "Obj.House()\n",
        "Obj.Jolly()\n",
        "Obj.Formar()\n",
        "\n"
      ],
      "metadata": {
        "colab": {
          "base_uri": "https://localhost:8080/"
        },
        "id": "h1L9jpe9lt10",
        "outputId": "08e2853f-8ede-428e-f53b-64a14e56bf25"
      },
      "execution_count": 125,
      "outputs": [
        {
          "output_type": "stream",
          "name": "stdout",
          "text": [
            "😼😼😼😼\n",
            "🌱🌱🌱🌱\n",
            "✅✅✅✅✅\n"
          ]
        }
      ]
    },
    {
      "cell_type": "code",
      "source": [
        "# Hirarchy Inheritance\n",
        "class parents :\n",
        "    def Business(self):\n",
        "       print(\"My parents are doing bussiness\")\n",
        "\n",
        "class Child1(Parents) :\n",
        "     def Study(self):\n",
        "       print(\"I'm studying BCA\")\n",
        "\n",
        "class Child2(Parents) :\n",
        "     def Study(self):\n",
        "       print(\"I'm studying PUC\")\n",
        "\n",
        "Ch = Child1()\n",
        "Ch.Business()\n",
        "Ch.Study()\n",
        "\n",
        "Obj = Child2()\n",
        "Obj.Business()\n",
        "Obj.Study()"
      ],
      "metadata": {
        "colab": {
          "base_uri": "https://localhost:8080/"
        },
        "id": "fMLqCwgFpq9V",
        "outputId": "8a88ca59-5854-493b-a512-e679972fcb1e"
      },
      "execution_count": 134,
      "outputs": [
        {
          "output_type": "stream",
          "name": "stdout",
          "text": [
            "My parents are doing bussiness\n",
            "I'm studying BCA\n",
            "My parents are doing bussiness\n",
            "I'm studying PUC\n"
          ]
        }
      ]
    },
    {
      "cell_type": "code",
      "source": [
        "# Hybrid Inheritance\n",
        "\n",
        "class Grandfather:\n",
        "    def skill(self):\n",
        "        print(\"Grandfather has farming skills\")\n",
        "\n",
        "class Father(Grandfather):\n",
        "    def business(self):\n",
        "        print(\"Father has a business\")\n",
        "\n",
        "class Mother:\n",
        "    def cooking(self):\n",
        "        print(\"Mother is a great cook\")\n",
        "\n",
        "class Son(Father, Mother):\n",
        "    def study(self):\n",
        "        print(\"Son is studying\")\n",
        "\n",
        "class Daughter(Father):\n",
        "    def art(self):\n",
        "        print(\"Daughter is good at art\")\n",
        "\n",
        "# Example usage\n",
        "print(\"Son's traits:\")\n",
        "son = Son()\n",
        "son.skill()\n",
        "son.business()\n",
        "son.cooking()\n",
        "son.study()\n",
        "print(\"\\nDaughter's traits:\")\n",
        "daughter = Daughter()\n",
        "daughter.skill()\n",
        "daughter.business()\n",
        "daughter.art()\n"
      ],
      "metadata": {
        "colab": {
          "base_uri": "https://localhost:8080/"
        },
        "id": "aAWBCdBytNsV",
        "outputId": "e9f4fcc3-d678-4b4c-c3e0-ddbd6e5dcd0f"
      },
      "execution_count": 135,
      "outputs": [
        {
          "output_type": "stream",
          "name": "stdout",
          "text": [
            "Son's traits:\n",
            "Grandfather has farming skills\n",
            "Father has a business\n",
            "Mother is a great cook\n",
            "Son is studying\n",
            "\n",
            "Daughter's traits:\n",
            "Grandfather has farming skills\n",
            "Father has a business\n",
            "Daughter is good at art\n"
          ]
        }
      ]
    }
  ]
}